{
 "cells": [
  {
   "cell_type": "code",
   "execution_count": 1,
   "id": "3e4a4861",
   "metadata": {},
   "outputs": [],
   "source": [
    "import numpy as np\n",
    "import pandas as pd\n",
    "import matplotlib.pyplot as plt\n",
    "import seaborn as sns\n",
    "from sklearn.model_selection import train_test_split\n",
    "from sklearn.feature_extraction.text import CountVectorizer, TfidfTransformer\n",
    "from sklearn.naive_bayes import GaussianNB, MultinomialNB, BernoulliNB\n",
    "from sklearn.preprocessing import StandardScaler\n",
    "from sklearn.metrics import accuracy_score, classification_report, confusion_matrix\n",
    " "
   ]
  },
  {
   "cell_type": "code",
   "execution_count": 2,
   "id": "e4308a6d",
   "metadata": {},
   "outputs": [
    {
     "name": "stdout",
     "output_type": "stream",
     "text": [
      "   label                                               text\n",
      "0      0  Go until jurong point, crazy.. Available only ...\n",
      "1      0                      Ok lar... Joking wif u oni...\n",
      "2      1  Free entry in 2 a wkly comp to win FA Cup fina...\n",
      "3      0  U dun say so early hor... U c already then say...\n",
      "4      0  Nah I don't think he goes to usf, he lives aro...\n"
     ]
    }
   ],
   "source": [
    "df = pd.read_csv('spam.csv', encoding='latin-1')[['v1', 'v2']]\n",
    "df.columns = ['label', 'text']\n",
    "df['label'] = df['label'].map({'ham': 0, 'spam': 1})\n",
    " \n",
    "print(df.head())  "
   ]
  },
  {
   "cell_type": "code",
   "execution_count": 3,
   "id": "7487ffdf",
   "metadata": {},
   "outputs": [
    {
     "data": {
      "text/plain": [
       "(5572, 2)"
      ]
     },
     "execution_count": 3,
     "metadata": {},
     "output_type": "execute_result"
    }
   ],
   "source": [
    "df.shape\n"
   ]
  },
  {
   "cell_type": "code",
   "execution_count": 4,
   "id": "be667bfc",
   "metadata": {},
   "outputs": [
    {
     "name": "stdout",
     "output_type": "stream",
     "text": [
      "Gaussian Naïve Bayes Accuracy: 0.9802690582959641\n",
      "              precision    recall  f1-score   support\n",
      "\n",
      "           0       0.99      0.99      0.99       965\n",
      "           1       0.92      0.93      0.93       150\n",
      "\n",
      "    accuracy                           0.98      1115\n",
      "   macro avg       0.96      0.96      0.96      1115\n",
      "weighted avg       0.98      0.98      0.98      1115\n",
      "\n"
     ]
    }
   ],
   "source": [
    "df['text_length'] = df['text'].apply(len)\n",
    "df['num_words'] = df['text'].apply(lambda x: len(x.split()))\n",
    "df['num_digits'] = df['text'].apply(lambda x: sum(c.isdigit() for c in x))\n",
    " \n",
    "X = df[['text_length', 'num_words', 'num_digits']]\n",
    "y = df['label']\n",
    " \n",
    "X_train, X_test, y_train, y_test = train_test_split(X, y, test_size=0.2, random_state=42)\n",
    " \n",
    "scaler = StandardScaler()\n",
    "X_train_scaled = scaler.fit_transform(X_train)\n",
    "X_test_scaled = scaler.transform(X_test)\n",
    " \n",
    "gnb = GaussianNB()\n",
    "gnb.fit(X_train_scaled, y_train)\n",
    "y_pred_gnb = gnb.predict(X_test_scaled)\n",
    " \n",
    "print(\"Gaussian Naïve Bayes Accuracy:\", accuracy_score(y_test, y_pred_gnb))\n",
    "print(classification_report(y_test, y_pred_gnb))"
   ]
  },
  {
   "cell_type": "markdown",
   "id": "c188cfe8",
   "metadata": {},
   "source": [
    "# Ecludian  Distance #"
   ]
  },
  {
   "cell_type": "markdown",
   "id": "137da2ff",
   "metadata": {},
   "source": [
    "![ALT Text](https://encrypted-tbn0.gstatic.com/images?q=tbn:ANd9GcQdYwD5F-5kdfbf1SYXLcI5T9F2brybh3c_dg&s)"
   ]
  },
  {
   "cell_type": "code",
   "execution_count": null,
   "id": "5f815272",
   "metadata": {},
   "outputs": [],
   "source": []
  }
 ],
 "metadata": {
  "kernelspec": {
   "display_name": "Python 3 (ipykernel)",
   "language": "python",
   "name": "python3"
  },
  "language_info": {
   "codemirror_mode": {
    "name": "ipython",
    "version": 3
   },
   "file_extension": ".py",
   "mimetype": "text/x-python",
   "name": "python",
   "nbconvert_exporter": "python",
   "pygments_lexer": "ipython3",
   "version": "3.11.5"
  }
 },
 "nbformat": 4,
 "nbformat_minor": 5
}
